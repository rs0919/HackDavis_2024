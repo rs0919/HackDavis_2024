{
 "cells": [
  {
   "cell_type": "markdown",
   "metadata": {},
   "source": [
    "# Hack Davis 2024"
   ]
  },
  {
   "cell_type": "code",
   "execution_count": 1,
   "metadata": {},
   "outputs": [
    {
     "name": "stdout",
     "output_type": "stream",
     "text": [
      "Hackdavis!\n"
     ]
    }
   ],
   "source": [
    "from PIL import Image\n",
    "import numpy as np\n",
    "\n",
    "def message_to_bin(message):\n",
    "    \"\"\"Convert a message to binary.\"\"\"\n",
    "    return ''.join(format(ord(char), '08b') for char in message)\n",
    "\n",
    "def bin_to_message(binary):\n",
    "    \"\"\"Convert binary data to message.\"\"\"\n",
    "    message = []\n",
    "    for i in range(0, len(binary), 8):\n",
    "        byte = binary[i:i+8]\n",
    "        message.append(chr(int(byte, 2)))\n",
    "    return ''.join(message)\n",
    "\n",
    "def encode_image(image_path, secret_message):\n",
    "    img = Image.open(image_path)\n",
    "    binary_message = message_to_bin(secret_message) + '1111111111111110'  # Delimiter to indicate end of message\n",
    "    \n",
    "    if img.mode != 'RGB':\n",
    "        print(\"Image mode needs to be RGB\")\n",
    "        return False\n",
    "    \n",
    "    encoded = img.copy()\n",
    "    width, height = img.size\n",
    "    index = 0\n",
    "    \n",
    "    for row in range(height):\n",
    "        for col in range(width):\n",
    "            if index < len(binary_message):\n",
    "                pixel = list(img.getpixel((col, row)))\n",
    "                for n in range(3):  # Assume RGB\n",
    "                    if index < len(binary_message):\n",
    "                        pixel[n] = pixel[n] & ~1 | int(binary_message[index], 2)\n",
    "                        index += 1\n",
    "                encoded.putpixel((col, row), tuple(pixel))\n",
    "    \n",
    "    return encoded\n",
    "\n",
    "def decode_image(image_path):\n",
    "    img = Image.open(image_path)\n",
    "    binary_message = ''\n",
    "    width, height = img.size\n",
    "    \n",
    "    for row in range(height):\n",
    "        for col in range(width):\n",
    "            pixel = list(img.getpixel((col, row)))\n",
    "            for n in range(3):\n",
    "                binary_message += str(pixel[n] & 1)\n",
    "                if binary_message[-16:] == '1111111111111110':\n",
    "                    return bin_to_message(binary_message[:-16])\n",
    "    return \"No hidden message found.\"\n",
    "\n",
    "# Example usage:\n",
    "secret_msg = \"Hackdavis!\"\n",
    "cover_img_path = r\"c:\\Users\\2017j\\OneDrive\\Documents\\Python Scripts\\HackDavis2024\\StegPic.jpg\"  # Path to your cover image\n",
    "encoded_image = encode_image(cover_img_path, secret_msg)\n",
    "encoded_image.save(\"encoded_image.png\")\n",
    "\n",
    "decoded_message = decode_image(\"encoded_image.png\")\n",
    "print(decoded_message)\n"
   ]
  },
  {
   "cell_type": "code",
   "execution_count": null,
   "metadata": {},
   "outputs": [],
   "source": [
    "from PIL import Image\n",
    "\n",
    "def bin_to_message(binary):\n",
    "    \"\"\"Convert binary data to message.\"\"\"\n",
    "    message = []\n",
    "    for i in range(0, len(binary), 8):\n",
    "        byte = binary[i:i+8]\n",
    "        message.append(chr(int(byte, 2)))\n",
    "    return ''.join(message)\n",
    "\n",
    "def decode_image(image_path):\n",
    "    img = Image.open(image_path)\n",
    "    binary_message = ''\n",
    "    width, height = img.size\n",
    "    \n",
    "    for row in range(height):\n",
    "        for col in range(width):\n",
    "            pixel = list(img.getpixel((col, row)))\n",
    "            for n in range(3):\n",
    "                binary_message += str(pixel[n] & 1)\n",
    "                if binary_message[-16:] == '1111111111111110':\n",
    "                    return bin_to_message(binary_message[:-16])\n",
    "    return \"No hidden message found.\"\n",
    "\n",
    "decoded_message = decode_image(\"encoded_image.png\")\n",
    "print(decoded_message)"
   ]
  }
 ],
 "metadata": {
  "kernelspec": {
   "display_name": "Python 3",
   "language": "python",
   "name": "python3"
  },
  "language_info": {
   "codemirror_mode": {
    "name": "ipython",
    "version": 3
   },
   "file_extension": ".py",
   "mimetype": "text/x-python",
   "name": "python",
   "nbconvert_exporter": "python",
   "pygments_lexer": "ipython3",
   "version": "3.11.9"
  }
 },
 "nbformat": 4,
 "nbformat_minor": 2
}
