{
 "cells": [
  {
   "cell_type": "markdown",
   "metadata": {},
   "source": [
    "# Encoding an image in an image"
   ]
  },
  {
   "cell_type": "markdown",
   "metadata": {},
   "source": [
    "    image1_path = r'Images/Blue.png'\n",
    "    image2_path = r'Images/red.jpg'\n",
    "    output_path = r'Encoded Images/merged_image.png'\n",
    "    key = '1010101010'"
   ]
  },
  {
   "cell_type": "code",
   "execution_count": 47,
   "metadata": {},
   "outputs": [],
   "source": [
    "# Imports\n",
    "from PIL import Image\n",
    "import matplotlib.pyplot as plt\n",
    "import numpy as np"
   ]
  },
  {
   "cell_type": "code",
   "execution_count": 31,
   "metadata": {},
   "outputs": [],
   "source": [
    "from PIL import Image\n",
    "\n",
    "class Steganography:\n",
    "    def __init__(self, key):\n",
    "        self.key = key\n",
    "\n",
    "    def _int_to_bin(self, rgb):\n",
    "        \"\"\"Convert an RGB tuple to a binary (string) tuple.\"\"\"\n",
    "        return (f'{rgb[0]:08b}', f'{rgb[1]:08b}', f'{rgb[2]:08b}')\n",
    "\n",
    "    def _bin_to_int(self, rgb):\n",
    "        \"\"\"Convert a binary (string) tuple back to an RGB tuple.\"\"\"\n",
    "        return (int(rgb[0], 2), int(rgb[1], 2), int(rgb[2], 2))\n",
    "\n",
    "    def _resize_secret(self, secret_image, cover_size):\n",
    "        \"\"\"Resize the secret image to match the cover image size if it is larger.\"\"\"\n",
    "        secret_size = secret_image.size\n",
    "        if secret_size[0] > cover_size[0] or secret_size[1] > cover_size[1]:\n",
    "            secret_image = secret_image.resize(cover_size, Image.LANCZOS)  # Use Image.LANCZOS for high-quality downsampling\n",
    "        return secret_image\n",
    "\n",
    "    def merge(self, cover_image, secret_image):\n",
    "        \"\"\"Merge two images by embedding the secret image into the cover image.\"\"\"\n",
    "        secret_image = self._resize_secret(secret_image, cover_image.size)\n",
    "        cover_pixels = cover_image.load()\n",
    "        secret_pixels = secret_image.load()\n",
    "\n",
    "        new_image = Image.new(cover_image.mode, cover_image.size)\n",
    "        new_pixels = new_image.load()\n",
    "\n",
    "        for i in range(cover_image.size[0]):\n",
    "            for j in range(cover_image.size[1]):\n",
    "                cpixel = cover_pixels[i, j]\n",
    "                spixel = secret_pixels[i, j] if i < secret_image.size[0] and j < secret_image.size[1] else (0, 0, 0)\n",
    "                new_pixel = tuple((cpixel[k] & ~1) | (spixel[k] & 1) for k in range(3))\n",
    "                new_pixels[i, j] = new_pixel\n",
    "\n",
    "        return new_image"
   ]
  },
  {
   "cell_type": "markdown",
   "metadata": {},
   "source": [
    "# Merging"
   ]
  },
  {
   "cell_type": "code",
   "execution_count": 32,
   "metadata": {},
   "outputs": [],
   "source": [
    "# Example usage, provided images are properly loaded and paths are correct\n",
    "if __name__ == \"__main__\":\n",
    "    stego = Steganography(key='1010101010')\n",
    "    cover_image = Image.open(r\"Images/GuyFieri.jpg\")\n",
    "    secret_image = Image.open(r\"Images/GF2.jpg\")\n",
    "    merged_image = stego.merge(cover_image, secret_image)\n",
    "    merged_image.save(r\"Encoded Images/GF_1010101010.png\")\n"
   ]
  },
  {
   "cell_type": "markdown",
   "metadata": {},
   "source": [
    "# Unmerging Class"
   ]
  },
  {
   "cell_type": "code",
   "execution_count": 33,
   "metadata": {},
   "outputs": [],
   "source": [
    "class Unsteganography:\n",
    "    def __init__(self, key):\n",
    "        self.key = key\n",
    "\n",
    "    def _int_to_bin(self, rgb):\n",
    "        \"\"\"Convert an RGB tuple to a binary (string) tuple.\"\"\"\n",
    "        return tuple(f'{value:08b}' for value in rgb)\n",
    "\n",
    "    def _bin_to_int(self, rgb):\n",
    "        \"\"\"Convert a binary (string) tuple back to an RGB tuple.\"\"\"\n",
    "        return tuple(int(binary, 2) for binary in rgb if binary)\n",
    "\n",
    "    def apply_key(self, binary, key):\n",
    "        \"\"\"Apply XOR operation to binary data with a repeating key.\"\"\"\n",
    "        key = (key * ((len(binary) // len(key)) + 1))[:len(binary)]\n",
    "        if len(binary) < len(key):  # Ensure there's something to decode\n",
    "            return '00000000' * 3  # Default to black pixel if there's nothing to decode\n",
    "        return ''.join(str(int(b) ^ int(k)) for b, k in zip(binary, key))\n",
    "\n",
    "    def unmerge(self, image):\n",
    "        \"\"\"Extract the hidden image from a merged image.\"\"\"\n",
    "        pixels = image.load()\n",
    "        width, height = image.size\n",
    "\n",
    "        # Create a new image to store the extracted secret data\n",
    "        secret_image = Image.new('RGB', (width, height))\n",
    "        secret_pixels = secret_image.load()\n",
    "\n",
    "        for i in range(width):\n",
    "            for j in range(height):\n",
    "                rgb = pixels[i, j]\n",
    "                binary_rgb = self._int_to_bin(rgb)\n",
    "                # Extract the last 4 bits (LSB) of each color channel\n",
    "                extracted_binary = (''.join(bits[4:] for bits in binary_rgb))\n",
    "                # Apply key to decode the binary data\n",
    "                decoded_binary = self.apply_key(extracted_binary, self.key)\n",
    "                # Ensure decoded binary has enough bits to form RGB\n",
    "                decoded_binary = (decoded_binary + '00000000' * 3)[:24] \n",
    "                new_rgb = self._bin_to_int((decoded_binary[:8], decoded_binary[8:16], decoded_binary[16:24]))\n",
    "                secret_pixels[i, j] = new_rgb\n",
    "\n",
    "        return secret_image\n"
   ]
  },
  {
   "cell_type": "markdown",
   "metadata": {},
   "source": [
    "# Unmerging"
   ]
  },
  {
   "cell_type": "code",
   "execution_count": 34,
   "metadata": {},
   "outputs": [
    {
     "name": "stdout",
     "output_type": "stream",
     "text": [
      "Extracted secret image saved successfully.\n"
     ]
    }
   ],
   "source": [
    "def main():\n",
    "    # Load the merged image\n",
    "    merged_image = Image.open(r\"Encoded Images/GF_1010101010.png\")\n",
    "    key = '1010101010'  # The key used to merge the images\n",
    "\n",
    "    # Create an instance of Unsteganography\n",
    "    un_stego = Unsteganography(key=key)\n",
    "    # Unmerge the image to extract the hidden image\n",
    "    secret_image = un_stego.unmerge(merged_image)\n",
    "\n",
    "    # Save the extracted secret image\n",
    "    secret_image.save(r'Decoded Images/GF_2.png')\n",
    "    print(\"Extracted secret image saved successfully.\")\n",
    "\n",
    "if __name__ == '__main__':\n",
    "    main()\n"
   ]
  },
  {
   "cell_type": "markdown",
   "metadata": {},
   "source": [
    "# Testing different decoding key"
   ]
  },
  {
   "cell_type": "code",
   "execution_count": 24,
   "metadata": {},
   "outputs": [
    {
     "name": "stdout",
     "output_type": "stream",
     "text": [
      "Incorrectly extracted secret image saved successfully.\n"
     ]
    }
   ],
   "source": [
    "def main_decode_with_different_key():\n",
    "    # Load the merged image\n",
    "    merged_image = Image.open(r'Encoded Images/merged_image_1010101010.png')\n",
    "    incorrect_key = '0101010101'  # A different key than the one used for merging\n",
    "\n",
    "    # Create an instance of Unsteganography with the incorrect key\n",
    "    un_stego_wrong_key = Unsteganography(key=incorrect_key)\n",
    "    # Attempt to unmerge the image with the wrong key\n",
    "    secret_image_wrong_key = un_stego_wrong_key.unmerge(merged_image)\n",
    "\n",
    "    # Save the incorrectly extracted secret image\n",
    "    secret_image_wrong_key.save(r'Decoded Images/incorrectly_extracted_secret_image.png')\n",
    "    print(\"Incorrectly extracted secret image saved successfully.\")\n",
    "\n",
    "if __name__ == '__main__':\n",
    "    main_decode_with_different_key()\n"
   ]
  },
  {
   "cell_type": "markdown",
   "metadata": {},
   "source": [
    "# Displaying Images"
   ]
  },
  {
   "cell_type": "code",
   "execution_count": 25,
   "metadata": {},
   "outputs": [
    {
     "data": {
      "image/png": "[encoded data removed]",
      "text/plain": [
       "<Figure size 1500x500 with 4 Axes>"
      ]
     },
     "metadata": {},
     "output_type": "display_data"
    }
   ],
   "source": [
    "from PIL import Image\n",
    "import matplotlib.pyplot as plt\n",
    "\n",
    "def display_images():\n",
    "    # Load images\n",
    "    original_cover = Image.open(r\"Images/Blue.png\")\n",
    "    original_secret = Image.open(r\"Images/red.jpg\")\n",
    "    merged_image = Image.open(r'Encoded Images/merged_image_1010101010.png')\n",
    "    extracted_image = Image.open(r'Decoded Images/extracted_secret_image_2.png')\n",
    "\n",
    "    # Plotting\n",
    "    fig, ax = plt.subplots(1, 4, figsize=(15, 5))\n",
    "    ax[0].imshow(original_cover)\n",
    "    ax[0].set_title(\"Original Cover Image\")\n",
    "    ax[0].axis('off')\n",
    "\n",
    "    ax[1].imshow(original_secret)\n",
    "    ax[1].set_title(\"Original Secret Image\")\n",
    "    ax[1].axis('off')\n",
    "\n",
    "    ax[2].imshow(merged_image)\n",
    "    ax[2].set_title(\"Merged Image\")\n",
    "    ax[2].axis('off')\n",
    "\n",
    "    ax[3].imshow(extracted_image)\n",
    "    ax[3].set_title(\"Extracted Image\")\n",
    "    ax[3].axis('off')\n",
    "\n",
    "    plt.show()\n",
    "\n",
    "if __name__ == '__main__':\n",
    "    display_images()\n"
   ]
  },
  {
   "cell_type": "markdown",
   "metadata": {},
   "source": [
    "# New Testing"
   ]
  },
  {
   "cell_type": "code",
   "execution_count": 37,
   "metadata": {},
   "outputs": [],
   "source": [
    "from PIL import Image\n",
    "import argparse\n",
    "\n",
    "class Steganography:\n",
    "    def __init__(self, key):\n",
    "        self.key = key  # Store the key as binary representation\n",
    "\n",
    "    def _int_to_bin(self, rgb):\n",
    "        \"\"\"Convert an RGB tuple to a binary (string) tuple.\"\"\"\n",
    "        return tuple(f'{c:08b}' for c in rgb)\n",
    "\n",
    "    def _bin_to_int(self, rgb):\n",
    "        \"\"\"Convert a binary (string) tuple back to an RGB tuple.\"\"\"\n",
    "        return tuple(int(b, 2) for b in rgb)\n",
    "\n",
    "    def _apply_key(self, bits):\n",
    "        \"\"\"Apply XOR between the bits and the key.\"\"\"\n",
    "        key_bits = self.key * (len(bits) // len(self.key) + 1)\n",
    "        return ''.join(str(int(b) ^ int(k)) for b, k in zip(bits, key_bits))\n",
    "\n",
    "    def _merge_rgb(self, rgb1, rgb2):\n",
    "        \"\"\"Merge two RGB tuples using the first 4 bits of each color channel.\"\"\"\n",
    "        r1, g1, b1 = self._int_to_bin(rgb1)\n",
    "        r2, g2, b2 = self._int_to_bin(rgb2)\n",
    "        merged = r1[:4] + r2[:4], g1[:4] + g2[:4], b1[:4] + b2[:4]\n",
    "        return self._bin_to_int(merged)\n",
    "\n",
    "    def _unmerge_rgb(self, rgb):\n",
    "        \"\"\"Unmerge RGB by extracting the last 4 bits of each color channel and applying the key.\"\"\"\n",
    "        r, g, b = self._int_to_bin(rgb)\n",
    "        extracted = r[4:] + '0000', g[4:] + '0000', b[4:] + '0000'\n",
    "        decrypted = self._apply_key(extracted)\n",
    "        return self._bin_to_int((decrypted[:8], decrypted[8:16], decrypted[16:24]))\n",
    "\n",
    "    def merge(self, cover_image, secret_image):\n",
    "        \"\"\"Merge image2 into image1 using partial data embedding.\"\"\"\n",
    "        if secret_image.size > cover_image.size:\n",
    "            raise ValueError('Secret image must not be larger than the cover image!')\n",
    "        map1 = cover_image.load()\n",
    "        map2 = secret_image.load()\n",
    "        new_image = Image.new(cover_image.mode, cover_image.size)\n",
    "        new_map = new_image.load()\n",
    "\n",
    "        for i in range(cover_image.size[0]):\n",
    "            for j in range(cover_image.size[1]):\n",
    "                rgb1 = map1[i, j]\n",
    "                rgb2 = map2[i, j] if i < secret_image.size[0] and j < secret_image.size[1] else (0, 0, 0)\n",
    "                new_map[i, j] = self._merge_rgb(rgb1, rgb2)\n",
    "\n",
    "        return new_image\n",
    "\n",
    "    def unmerge(self, image):\n",
    "        \"\"\"Extract the hidden image from the merged image.\"\"\"\n",
    "        pixel_map = image.load()\n",
    "        new_image = Image.new(image.mode, image.size)\n",
    "        new_map = new_image.load()\n",
    "\n",
    "        for i in range(image.size[0]):\n",
    "            for j in range(image.size[1]):\n",
    "                new_map[i, j] = self._unmerge_rgb(pixel_map[i, j])\n",
    "\n",
    "        return new_image\n"
   ]
  },
  {
   "cell_type": "code",
   "execution_count": 38,
   "metadata": {},
   "outputs": [
    {
     "name": "stderr",
     "output_type": "stream",
     "text": [
      "usage: ipykernel_launcher.py [-h] {merge,unmerge}\n",
      "ipykernel_launcher.py: error: the following arguments are required: command\n"
     ]
    },
    {
     "ename": "SystemExit",
     "evalue": "2",
     "output_type": "error",
     "traceback": [
      "An exception has occurred, use %tb to see the full traceback.\n",
      "\u001b[1;31mSystemExit\u001b[0m\u001b[1;31m:\u001b[0m 2\n"
     ]
    }
   ],
   "source": [
    "from PIL import Image\n",
    "import argparse\n",
    "\n",
    "def get_input(prompt, default=None):\n",
    "    \"\"\" Get input from the user, use default if no input is provided. \"\"\"\n",
    "    user_input = input(f\"{prompt} [{default}]: \")\n",
    "    return user_input if user_input else default\n",
    "\n",
    "def main():\n",
    "    parser = argparse.ArgumentParser(description='Steganography tool to merge and unmerge images.')\n",
    "    parser.add_argument('command', choices=['merge', 'unmerge'], help='Choose merge to combine images, or unmerge to extract an image.')\n",
    "    args = parser.parse_args()\n",
    "\n",
    "    key = get_input(\"Enter the encryption key as binary string\", '1010101010')\n",
    "    stego = Steganography(key=key)\n",
    "\n",
    "    if args.command == 'merge':\n",
    "        image1 = get_input(\"Enter the cover image path\", 'Images/GuyFieri.jpg')\n",
    "        image2 = get_input(\"Enter the secret image path\", 'Images/GF2.jpg')\n",
    "        output = get_input(\"Enter the output image path\", 'Encoded Images/GF_1010101010.png')\n",
    "\n",
    "        cover_image = Image.open(image1)\n",
    "        secret_image = Image.open(image2)\n",
    "        merged_image = stego.merge(cover_image, secret_image)\n",
    "        merged_image.save(output)\n",
    "        print(f\"Merged image saved to {output}\")\n",
    "    elif args.command == 'unmerge':\n",
    "        image1 = get_input(\"Enter the merged image path\", 'Encoded Images/GF_1010101010.png')\n",
    "        output = get_input(\"Enter the output path for the extracted image\", 'Decoded Images/should_be_GF2.png')\n",
    "\n",
    "        merged_image = Image.open(image1)\n",
    "        secret_image = stego.unmerge(merged_image)\n",
    "        secret_image.save(output)\n",
    "        print(f\"Extracted image saved to {output}\")\n",
    "\n",
    "if __name__ == '__main__':\n",
    "    main()\n"
   ]
  },
  {
   "cell_type": "markdown",
   "metadata": {},
   "source": [
    "# Test 2"
   ]
  },
  {
   "cell_type": "code",
   "execution_count": 40,
   "metadata": {},
   "outputs": [
    {
     "name": "stdout",
     "output_type": "stream",
     "text": [
      "Merged image saved to Encoded Images/GF_1010101010.png\n",
      "Extracted image saved to Decoded Images/should_be_GF2.png\n"
     ]
    }
   ],
   "source": [
    "from PIL import Image\n",
    "\n",
    "class Steganography:\n",
    "    def __init__(self, key):\n",
    "        self.key = key  # Store the key as binary representation\n",
    "\n",
    "    def _int_to_bin(self, rgb):\n",
    "        \"\"\"Convert an RGB tuple to a binary (string) tuple.\"\"\"\n",
    "        return tuple(f'{c:08b}' for c in rgb)\n",
    "\n",
    "    def _bin_to_int(self, rgb):\n",
    "        \"\"\"Convert a binary (string) tuple back to an RGB tuple.\"\"\"\n",
    "        return tuple(int(b, 2) for b in rgb)\n",
    "\n",
    "    def merge(self, cover_image, secret_image):\n",
    "        \"\"\"Merge two images by embedding the secret image into the cover image.\"\"\"\n",
    "        map1 = cover_image.load()\n",
    "        map2 = secret_image.load()\n",
    "        new_image = Image.new(cover_image.mode, cover_image.size)\n",
    "        new_map = new_image.load()\n",
    "\n",
    "        for i in range(cover_image.size[0]):\n",
    "            for j in range(cover_image.size[1]):\n",
    "                rgb1 = map1[i, j]\n",
    "                rgb2 = map2[i, j] if i < secret_image.size[0] and j < secret_image.size[1] else (0, 0, 0)\n",
    "                new_pixel = tuple((rgb1[k] & ~1) | (rgb2[k] & 1) for k in range(3))\n",
    "                new_map[i, j] = new_pixel\n",
    "\n",
    "        return new_image\n",
    "\n",
    "    def unmerge(self, merged_image):\n",
    "        \"\"\"Extract the hidden image from the merged image.\"\"\"\n",
    "        pixel_map = merged_image.load()\n",
    "        new_image = Image.new(merged_image.mode, merged_image.size)\n",
    "        new_map = new_image.load()\n",
    "\n",
    "        for i in range(merged_image.size[0]):\n",
    "            for j in range(merged_image.size[1]):\n",
    "                rgb = pixel_map[i, j]\n",
    "                new_pixel = tuple((rgb[k] & 1) * 255 for k in range(3))\n",
    "                new_map[i, j] = new_pixel\n",
    "\n",
    "        return new_image\n",
    "\n",
    "def get_input(prompt, default=None):\n",
    "    \"\"\" Get input from the user, use default if no input is provided. \"\"\"\n",
    "    user_input = input(f\"{prompt} [{default}]: \")\n",
    "    return user_input if user_input else default\n",
    "\n",
    "def main():\n",
    "    key = get_input(\"Enter the encryption key as binary string\", '1010101010')\n",
    "    stego = Steganography(key=key)\n",
    "\n",
    "    image1 = get_input(\"Enter the cover image path\", 'Images/GuyFieri.jpg')\n",
    "    image2 = get_input(\"Enter the secret image path\", 'Images/GF2.jpg')\n",
    "    output = get_input(\"Enter the output image path for merged image\", 'Encoded Images/GF_1010101010.png')\n",
    "    output_decoded = get_input(\"Enter the output image path for extracted image\", 'Decoded Images/should_be_GF2.png')\n",
    "\n",
    "    cover_image = Image.open(image1)\n",
    "    secret_image = Image.open(image2)\n",
    "    merged_image = stego.merge(cover_image, secret_image)\n",
    "    merged_image.save(output)\n",
    "    print(f\"Merged image saved to {output}\")\n",
    "\n",
    "    extracted_image = stego.unmerge(merged_image)\n",
    "    extracted_image.save(output_decoded)\n",
    "    print(f\"Extracted image saved to {output_decoded}\")\n",
    "\n",
    "if __name__ == '__main__':\n",
    "    main()\n"
   ]
  },
  {
   "cell_type": "markdown",
   "metadata": {},
   "source": [
    "# This works!"
   ]
  },
  {
   "cell_type": "code",
   "execution_count": 42,
   "metadata": {},
   "outputs": [],
   "source": [
    "from PIL import Image\n",
    "\n",
    "class Steganography:\n",
    "    def __init__(self, key):\n",
    "        self.key = key  # Store the key as binary representation\n",
    "\n",
    "    def _int_to_bin(self, rgb):\n",
    "        \"\"\"Convert an integer tuple to a binary (string) tuple.\"\"\"\n",
    "        return tuple(f'{c:08b}' for c in rgb)\n",
    "\n",
    "    def _bin_to_int(self, rgb):\n",
    "        \"\"\"Convert a binary (string) tuple back to an RGB tuple.\"\"\"\n",
    "        return tuple(int(b, 2) for b in rgb)\n",
    "\n",
    "    def merge(self, cover_image, secret_image):\n",
    "        \"\"\"Merge two images by embedding the secret image into the cover image.\"\"\"\n",
    "        map1 = cover_image.load()\n",
    "        map2 = secret_image.load()\n",
    "        new_image = Image.new(cover_image.mode, cover_image.size)\n",
    "        new_map = new_image.load()\n",
    "\n",
    "        for i in range(cover_image.size[0]):\n",
    "            for j in range(cover_image.size[1]):\n",
    "                rgb1 = map1[i, j]\n",
    "                rgb2 = map2[i, j] if i < secret_image.size[0] and j < secret_image.size[1] else (0, 0, 0)\n",
    "                new_pixel = tuple((rgb1[k] & 0xF0) | (rgb2[k] >> 4) for k in range(3))\n",
    "                new_map[i, j] = new_pixel\n",
    "\n",
    "        return new_image\n",
    "\n",
    "    def unmerge(self, image):\n",
    "        \"\"\"Unmerge an image to extract the hidden data.\"\"\"\n",
    "        pixel_map = image.load()\n",
    "        new_image = Image.new(image.mode, image.size)\n",
    "        new_map = new_image.load()\n",
    "\n",
    "        for i in range(image.size[0]):\n",
    "            for j in range(image.size[1]):\n",
    "                new_map[i, j] = self._unmerge_rgb(pixel_map[i, j])\n",
    "\n",
    "        return new_image\n",
    "\n",
    "    def _unmerge_rgb(self, rgb):\n",
    "        \"\"\"Extract the hidden data from RGB tuple by isolating the least significant bits used for the secret image.\"\"\"\n",
    "        r, g, b = self._int_to_bin(rgb)\n",
    "        # Extract the last 4 bits of each color channel and convert them to a full byte\n",
    "        new_rgb = (r[4:] + '0000', g[4:] + '0000', b[4:] + '0000')\n",
    "        return self._bin_to_int(new_rgb)\n",
    "\n",
    "# Example usage\n",
    "if __name__ == \"__main__\":\n",
    "    stego = Steganography(key='1010101010')\n",
    "    cover_image = Image.open(\"Images/GuyFieri.jpg\")\n",
    "    secret_image = Image.open(\"Images/GF2.jpg\")\n",
    "    merged_image = stego.merge(cover_image, secret_image)\n",
    "    merged_image.save(\"Encoded Images/GF_1010101010.png\")\n",
    "\n",
    "    extracted_image = stego.unmerge(merged_image)\n",
    "    extracted_image.save(\"Decoded Images/should_be_GF2.png\")\n"
   ]
  }
 ],
 "metadata": {
  "kernelspec": {
   "display_name": "Python 3",
   "language": "python",
   "name": "python3"
  },
  "language_info": {
   "codemirror_mode": {
    "name": "ipython",
    "version": 3
   },
   "file_extension": ".py",
   "mimetype": "text/x-python",
   "name": "python",
   "nbconvert_exporter": "python",
   "pygments_lexer": "ipython3",
   "version": "3.11.8"
  }
 },
 "nbformat": 4,
 "nbformat_minor": 2
}
